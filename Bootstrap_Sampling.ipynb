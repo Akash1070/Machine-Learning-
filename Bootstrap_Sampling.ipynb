{
  "nbformat": 4,
  "nbformat_minor": 0,
  "metadata": {
    "colab": {
      "provenance": [],
      "toc_visible": true
    },
    "kernelspec": {
      "name": "python3",
      "display_name": "Python 3"
    },
    "language_info": {
      "name": "python"
    }
  },
  "cells": [
    {
      "cell_type": "markdown",
      "source": [
        "**Bootstrap Sampling**"
      ],
      "metadata": {
        "id": "ud_x4ZluLFmL"
      }
    },
    {
      "cell_type": "code",
      "execution_count": null,
      "metadata": {
        "colab": {
          "base_uri": "https://localhost:8080/"
        },
        "id": "b5E8AY-pFBY1",
        "outputId": "c550a537-b0f1-4e08-9251-101629578f6a"
      },
      "outputs": [
        {
          "output_type": "stream",
          "name": "stdout",
          "text": [
            "Train data [4, 6, 5, 6, 9, 4, 3, 3, 1, 8]   Test data <generator object <genexpr> at 0x7f85b51d93d0>\n",
            "Train data [4, 6, 9, 1, 8, 7, 2, 5, 10, 2]   Test data <generator object <genexpr> at 0x7f85b51d9350>\n",
            "Train data [9, 9, 3, 9, 8, 3, 4, 4, 4, 8]   Test data <generator object <genexpr> at 0x7f85b51d9450>\n",
            "Train data [3, 10, 3, 1, 4, 9, 10, 4, 3, 9]   Test data <generator object <genexpr> at 0x7f85b51d93d0>\n",
            "Train data [2, 1, 2, 5, 8, 7, 4, 6, 8, 5]   Test data <generator object <genexpr> at 0x7f85b51d94d0>\n",
            "Train data [8, 6, 8, 3, 6, 7, 2, 4, 7, 5]   Test data <generator object <genexpr> at 0x7f85b51d9450>\n",
            "Train data [5, 10, 2, 5, 5, 10, 9, 8, 8, 4]   Test data <generator object <genexpr> at 0x7f85b51d93d0>\n",
            "Train data [3, 4, 10, 4, 8, 1, 3, 6, 7, 9]   Test data <generator object <genexpr> at 0x7f85b51d94d0>\n",
            "Train data [1, 7, 6, 6, 4, 7, 10, 4, 10, 3]   Test data <generator object <genexpr> at 0x7f85b51d9450>\n",
            "Train data [5, 3, 2, 3, 6, 7, 9, 5, 6, 9]   Test data <generator object <genexpr> at 0x7f85b51d93d0>\n"
          ]
        }
      ],
      "source": [
        "from sklearn.utils import resample\n",
        "import numpy as np\n",
        "data=[1,2,3,4,5,6,7,8,9,10]\n",
        "n_iterations=10\n",
        "n_size=int(len(data)*1)\n",
        "for i in range(n_iterations):\n",
        "  train=resample(data,n_samples=n_size)\n",
        "  test=np.array(x for x in data if x not in train)\n",
        "  print('Train data' ,train,' ','Test data',test)\n"
      ]
    },
    {
      "cell_type": "code",
      "source": [],
      "metadata": {
        "id": "bzRLeYzoGDGK"
      },
      "execution_count": null,
      "outputs": []
    }
  ]
}