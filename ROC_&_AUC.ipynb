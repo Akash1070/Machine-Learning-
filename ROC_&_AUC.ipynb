{
  "cells": [
    {
      "cell_type": "markdown",
      "source": [
        "#**Area Under Curve and Receiver Operating Characteristic Curve**"
      ],
      "metadata": {
        "id": "x6WUcQj9-MOr"
      }
    },
    {
      "cell_type": "code",
      "execution_count": 1,
      "metadata": {
        "id": "2Xu5uQKO1s4Z"
      },
      "outputs": [],
      "source": [
        "from pandas import read_csv\n",
        "from sklearn.model_selection import train_test_split\n",
        "from sklearn.linear_model import LogisticRegression\n",
        "import numpy as np\n",
        "\n",
        "import pylab as pl\n",
        "from sklearn import svm\n",
        "from sklearn.utils import shuffle\n",
        "from sklearn.metrics import roc_curve, auc\n",
        "random_state = np.random.RandomState(0)\n",
        "import warnings\n",
        "warnings.filterwarnings('ignore')\n",
        "\n",
        "\n",
        "\n",
        "df = read_csv('/content/pima-indians-diabetes.csv')\n",
        "\n",
        "X = df.drop('class',axis = 1)\n",
        "Y = df['class']\n",
        "\n",
        "X_train, X_test, y_train, y_test = train_test_split(X, Y, test_size=0.50, random_state=1)\n",
        "\n",
        "\n",
        "classifier1 = LogisticRegression()\n",
        "\n",
        "classifier2 = svm.SVC(kernel='linear', probability=True)\n",
        "\n",
        "\n",
        "probas1_ = classifier1.fit(X_train, y_train).predict_proba(X_test)\n",
        "probas2_ = classifier2.fit(X_train, y_train).predict_proba(X_test)"
      ]
    },
    {
      "cell_type": "markdown",
      "source": [
        "True positive == Recall\n",
        "\n",
        "The *false positive rate* is calculated as the ratio between the number of negative events wrongly categorized as positive (false positives) and the total number of actual negative events (regardless of classification).\n",
        "\n",
        "FP/FP+TN:"
      ],
      "metadata": {
        "id": "HDTl4uyB6QRS"
      }
    },
    {
      "cell_type": "code",
      "execution_count": 2,
      "metadata": {
        "colab": {
          "base_uri": "https://localhost:8080/"
        },
        "id": "Unc4Sc_61s4f",
        "outputId": "580ac375-2937-40e8-ea51-8c076539b7b7"
      },
      "outputs": [
        {
          "output_type": "stream",
          "name": "stdout",
          "text": [
            "Area under the ROC curve : 0.830152\n"
          ]
        }
      ],
      "source": [
        "# Compute ROC curve and area the curve for logistic\n",
        "fpr1, tpr1, thresholds1 = roc_curve(y_test, probas1_[:, 1]) \n",
        "roc_auc1 = auc(fpr1, tpr1) #tpr & fpr : true positive & false positive\n",
        "print(\"Area under the ROC curve : %f\" % roc_auc1)"
      ]
    },
    {
      "cell_type": "code",
      "execution_count": 3,
      "metadata": {
        "colab": {
          "base_uri": "https://localhost:8080/"
        },
        "id": "r6vYJ_eS1s4g",
        "outputId": "9b078295-1b94-4938-8b4f-44ac835e7ec2"
      },
      "outputs": [
        {
          "output_type": "stream",
          "name": "stdout",
          "text": [
            "Area under the ROC curve : 0.836073\n"
          ]
        }
      ],
      "source": [
        "# Compute ROC curve and area the curve\n",
        "fpr2, tpr2, thresholds2 = roc_curve(y_test, probas2_[:, 1])\n",
        "roc_auc2 = auc(fpr2, tpr2)\n",
        "print(\"Area under the ROC curve : %f\" % roc_auc2)"
      ]
    },
    {
      "cell_type": "code",
      "execution_count": 4,
      "metadata": {
        "colab": {
          "base_uri": "https://localhost:8080/",
          "height": 295
        },
        "id": "wms11Eec1s4h",
        "outputId": "a8d441c5-a69a-483b-db98-4b6716423a1e"
      },
      "outputs": [
        {
          "output_type": "display_data",
          "data": {
            "text/plain": [
              "<Figure size 432x288 with 1 Axes>"
            ],
            "image/png": "[encoded data removed]"
          },
          "metadata": {
            "needs_background": "light"
          }
        }
      ],
      "source": [
        "# Plot the ROC\n",
        "\n",
        "# Plot ROC curve\n",
        "pl.clf()\n",
        "pl.plot(fpr1, tpr1, label='ROC curve for logistic (area = %0.2f)' % roc_auc1)\n",
        "pl.plot(fpr2, tpr2, label='ROC curve for SVC (area = %0.2f)' % roc_auc2)\n",
        "pl.plot([0, 1], [0, 1], 'k--')\n",
        "pl.xlim([0.0, 1.0])\n",
        "pl.ylim([0.0, 1.0])\n",
        "pl.xlabel('False Positive Rate')\n",
        "pl.ylabel('True Positive Rate')\n",
        "pl.title('Receiverrating characteristic example')\n",
        "pl.legend(loc=\"lower right\")\n",
        "pl.show()"
      ]
    },
    {
      "cell_type": "markdown",
      "source": [
        "Higher the AUC, the better the model is at predicting 0 classes as 0 and 1 classes as 1. By analogy, the Higher the AUC, the better the model is at distinguishing between patients with the diabetes and no diabetes."
      ],
      "metadata": {
        "id": "JQTbEuP087Lr"
      }
    },
    {
      "cell_type": "code",
      "execution_count": null,
      "metadata": {
        "id": "p0oDkTaR1s4l"
      },
      "outputs": [],
      "source": []
    }
  ],
  "metadata": {
    "kernelspec": {
      "display_name": "Python 3",
      "language": "python",
      "name": "python3"
    },
    "language_info": {
      "codemirror_mode": {
        "name": "ipython",
        "version": 3
      },
      "file_extension": ".py",
      "mimetype": "text/x-python",
      "name": "python",
      "nbconvert_exporter": "python",
      "pygments_lexer": "ipython3",
      "version": "3.6.5"
    },
    "colab": {
      "provenance": []
    }
  },
  "nbformat": 4,
  "nbformat_minor": 0
}