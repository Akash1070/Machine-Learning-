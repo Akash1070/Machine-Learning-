{
  "nbformat": 4,
  "nbformat_minor": 0,
  "metadata": {
    "anaconda-cloud": {},
    "kernelspec": {
      "display_name": "Python 3",
      "language": "python",
      "name": "python3"
    },
    "language_info": {
      "codemirror_mode": {
        "name": "ipython",
        "version": 3
      },
      "file_extension": ".py",
      "mimetype": "text/x-python",
      "name": "python",
      "nbconvert_exporter": "python",
      "pygments_lexer": "ipython3",
      "version": "3.6.4"
    },
    "colab": {
      "provenance": []
    }
  },
  "cells": [
    {
      "cell_type": "markdown",
      "metadata": {
        "id": "RtGX3OkdD8g-"
      },
      "source": [
        "# **Grid Search CV** For Model optimization"
      ]
    },
    {
      "cell_type": "code",
      "metadata": {
        "id": "h0RjYOukD8hA"
      },
      "source": [
        "import pandas as pd\n",
        "from sklearn.model_selection import train_test_split, cross_val_score"
      ],
      "execution_count": 1,
      "outputs": []
    },
    {
      "cell_type": "code",
      "source": [
        "df = pd.read_csv('/content/pima-indians-diabetes.csv')\n",
        "df"
      ],
      "metadata": {
        "colab": {
          "base_uri": "https://localhost:8080/",
          "height": 424
        },
        "id": "X3DdRw2bqU86",
        "outputId": "f46c30fa-cab0-474c-b070-14fee8741d31"
      },
      "execution_count": 3,
      "outputs": [
        {
          "output_type": "execute_result",
          "data": {
            "text/plain": [
              "     Preg  Plas  Pres  skin  test  mass   pedi  age  class\n",
              "0       6   148    72    35     0  33.6  0.627   50      1\n",
              "1       1    85    66    29     0  26.6  0.351   31      0\n",
              "2       8   183    64     0     0  23.3  0.672   32      1\n",
              "3       1    89    66    23    94  28.1  0.167   21      0\n",
              "4       0   137    40    35   168  43.1  2.288   33      1\n",
              "..    ...   ...   ...   ...   ...   ...    ...  ...    ...\n",
              "763    10   101    76    48   180  32.9  0.171   63      0\n",
              "764     2   122    70    27     0  36.8  0.340   27      0\n",
              "765     5   121    72    23   112  26.2  0.245   30      0\n",
              "766     1   126    60     0     0  30.1  0.349   47      1\n",
              "767     1    93    70    31     0  30.4  0.315   23      0\n",
              "\n",
              "[768 rows x 9 columns]"
            ],
            "text/html": [
              "\n",
              "  <div id=\"df-d6985dbf-735d-4a74-862f-ec380d426861\">\n",
              "    <div class=\"colab-df-container\">\n",
              "      <div>\n",
              "<style scoped>\n",
              "    .dataframe tbody tr th:only-of-type {\n",
              "        vertical-align: middle;\n",
              "    }\n",
              "\n",
              "    .dataframe tbody tr th {\n",
              "        vertical-align: top;\n",
              "    }\n",
              "\n",
              "    .dataframe thead th {\n",
              "        text-align: right;\n",
              "    }\n",
              "</style>\n",
              "<table border=\"1\" class=\"dataframe\">\n",
              "  <thead>\n",
              "    <tr style=\"text-align: right;\">\n",
              "      <th></th>\n",
              "      <th>Preg</th>\n",
              "      <th>Plas</th>\n",
              "      <th>Pres</th>\n",
              "      <th>skin</th>\n",
              "      <th>test</th>\n",
              "      <th>mass</th>\n",
              "      <th>pedi</th>\n",
              "      <th>age</th>\n",
              "      <th>class</th>\n",
              "    </tr>\n",
              "  </thead>\n",
              "  <tbody>\n",
              "    <tr>\n",
              "      <th>0</th>\n",
              "      <td>6</td>\n",
              "      <td>148</td>\n",
              "      <td>72</td>\n",
              "      <td>35</td>\n",
              "      <td>0</td>\n",
              "      <td>33.6</td>\n",
              "      <td>0.627</td>\n",
              "      <td>50</td>\n",
              "      <td>1</td>\n",
              "    </tr>\n",
              "    <tr>\n",
              "      <th>1</th>\n",
              "      <td>1</td>\n",
              "      <td>85</td>\n",
              "      <td>66</td>\n",
              "      <td>29</td>\n",
              "      <td>0</td>\n",
              "      <td>26.6</td>\n",
              "      <td>0.351</td>\n",
              "      <td>31</td>\n",
              "      <td>0</td>\n",
              "    </tr>\n",
              "    <tr>\n",
              "      <th>2</th>\n",
              "      <td>8</td>\n",
              "      <td>183</td>\n",
              "      <td>64</td>\n",
              "      <td>0</td>\n",
              "      <td>0</td>\n",
              "      <td>23.3</td>\n",
              "      <td>0.672</td>\n",
              "      <td>32</td>\n",
              "      <td>1</td>\n",
              "    </tr>\n",
              "    <tr>\n",
              "      <th>3</th>\n",
              "      <td>1</td>\n",
              "      <td>89</td>\n",
              "      <td>66</td>\n",
              "      <td>23</td>\n",
              "      <td>94</td>\n",
              "      <td>28.1</td>\n",
              "      <td>0.167</td>\n",
              "      <td>21</td>\n",
              "      <td>0</td>\n",
              "    </tr>\n",
              "    <tr>\n",
              "      <th>4</th>\n",
              "      <td>0</td>\n",
              "      <td>137</td>\n",
              "      <td>40</td>\n",
              "      <td>35</td>\n",
              "      <td>168</td>\n",
              "      <td>43.1</td>\n",
              "      <td>2.288</td>\n",
              "      <td>33</td>\n",
              "      <td>1</td>\n",
              "    </tr>\n",
              "    <tr>\n",
              "      <th>...</th>\n",
              "      <td>...</td>\n",
              "      <td>...</td>\n",
              "      <td>...</td>\n",
              "      <td>...</td>\n",
              "      <td>...</td>\n",
              "      <td>...</td>\n",
              "      <td>...</td>\n",
              "      <td>...</td>\n",
              "      <td>...</td>\n",
              "    </tr>\n",
              "    <tr>\n",
              "      <th>763</th>\n",
              "      <td>10</td>\n",
              "      <td>101</td>\n",
              "      <td>76</td>\n",
              "      <td>48</td>\n",
              "      <td>180</td>\n",
              "      <td>32.9</td>\n",
              "      <td>0.171</td>\n",
              "      <td>63</td>\n",
              "      <td>0</td>\n",
              "    </tr>\n",
              "    <tr>\n",
              "      <th>764</th>\n",
              "      <td>2</td>\n",
              "      <td>122</td>\n",
              "      <td>70</td>\n",
              "      <td>27</td>\n",
              "      <td>0</td>\n",
              "      <td>36.8</td>\n",
              "      <td>0.340</td>\n",
              "      <td>27</td>\n",
              "      <td>0</td>\n",
              "    </tr>\n",
              "    <tr>\n",
              "      <th>765</th>\n",
              "      <td>5</td>\n",
              "      <td>121</td>\n",
              "      <td>72</td>\n",
              "      <td>23</td>\n",
              "      <td>112</td>\n",
              "      <td>26.2</td>\n",
              "      <td>0.245</td>\n",
              "      <td>30</td>\n",
              "      <td>0</td>\n",
              "    </tr>\n",
              "    <tr>\n",
              "      <th>766</th>\n",
              "      <td>1</td>\n",
              "      <td>126</td>\n",
              "      <td>60</td>\n",
              "      <td>0</td>\n",
              "      <td>0</td>\n",
              "      <td>30.1</td>\n",
              "      <td>0.349</td>\n",
              "      <td>47</td>\n",
              "      <td>1</td>\n",
              "    </tr>\n",
              "    <tr>\n",
              "      <th>767</th>\n",
              "      <td>1</td>\n",
              "      <td>93</td>\n",
              "      <td>70</td>\n",
              "      <td>31</td>\n",
              "      <td>0</td>\n",
              "      <td>30.4</td>\n",
              "      <td>0.315</td>\n",
              "      <td>23</td>\n",
              "      <td>0</td>\n",
              "    </tr>\n",
              "  </tbody>\n",
              "</table>\n",
              "<p>768 rows × 9 columns</p>\n",
              "</div>\n",
              "      <button class=\"colab-df-convert\" onclick=\"convertToInteractive('df-d6985dbf-735d-4a74-862f-ec380d426861')\"\n",
              "              title=\"Convert this dataframe to an interactive table.\"\n",
              "              style=\"display:none;\">\n",
              "        \n",
              "  <svg xmlns=\"http://www.w3.org/2000/svg\" height=\"24px\"viewBox=\"0 0 24 24\"\n",
              "       width=\"24px\">\n",
              "    <path d=\"M0 0h24v24H0V0z\" fill=\"none\"/>\n",
              "    <path d=\"M18.56 5.44l.94 2.06.94-2.06 2.06-.94-2.06-.94-.94-2.06-.94 2.06-2.06.94zm-11 1L8.5 8.5l.94-2.06 2.06-.94-2.06-.94L8.5 2.5l-.94 2.06-2.06.94zm10 10l.94 2.06.94-2.06 2.06-.94-2.06-.94-.94-2.06-.94 2.06-2.06.94z\"/><path d=\"M17.41 7.96l-1.37-1.37c-.4-.4-.92-.59-1.43-.59-.52 0-1.04.2-1.43.59L10.3 9.45l-7.72 7.72c-.78.78-.78 2.05 0 2.83L4 21.41c.39.39.9.59 1.41.59.51 0 1.02-.2 1.41-.59l7.78-7.78 2.81-2.81c.8-.78.8-2.07 0-2.86zM5.41 20L4 18.59l7.72-7.72 1.47 1.35L5.41 20z\"/>\n",
              "  </svg>\n",
              "      </button>\n",
              "      \n",
              "  <style>\n",
              "    .colab-df-container {\n",
              "      display:flex;\n",
              "      flex-wrap:wrap;\n",
              "      gap: 12px;\n",
              "    }\n",
              "\n",
              "    .colab-df-convert {\n",
              "      background-color: #E8F0FE;\n",
              "      border: none;\n",
              "      border-radius: 50%;\n",
              "      cursor: pointer;\n",
              "      display: none;\n",
              "      fill: #1967D2;\n",
              "      height: 32px;\n",
              "      padding: 0 0 0 0;\n",
              "      width: 32px;\n",
              "    }\n",
              "\n",
              "    .colab-df-convert:hover {\n",
              "      background-color: #E2EBFA;\n",
              "      box-shadow: 0px 1px 2px rgba(60, 64, 67, 0.3), 0px 1px 3px 1px rgba(60, 64, 67, 0.15);\n",
              "      fill: #174EA6;\n",
              "    }\n",
              "\n",
              "    [theme=dark] .colab-df-convert {\n",
              "      background-color: #3B4455;\n",
              "      fill: #D2E3FC;\n",
              "    }\n",
              "\n",
              "    [theme=dark] .colab-df-convert:hover {\n",
              "      background-color: #434B5C;\n",
              "      box-shadow: 0px 1px 3px 1px rgba(0, 0, 0, 0.15);\n",
              "      filter: drop-shadow(0px 1px 2px rgba(0, 0, 0, 0.3));\n",
              "      fill: #FFFFFF;\n",
              "    }\n",
              "  </style>\n",
              "\n",
              "      <script>\n",
              "        const buttonEl =\n",
              "          document.querySelector('#df-d6985dbf-735d-4a74-862f-ec380d426861 button.colab-df-convert');\n",
              "        buttonEl.style.display =\n",
              "          google.colab.kernel.accessAllowed ? 'block' : 'none';\n",
              "\n",
              "        async function convertToInteractive(key) {\n",
              "          const element = document.querySelector('#df-d6985dbf-735d-4a74-862f-ec380d426861');\n",
              "          const dataTable =\n",
              "            await google.colab.kernel.invokeFunction('convertToInteractive',\n",
              "                                                     [key], {});\n",
              "          if (!dataTable) return;\n",
              "\n",
              "          const docLinkHtml = 'Like what you see? Visit the ' +\n",
              "            '<a target=\"_blank\" href=https://colab.research.google.com/notebooks/data_table.ipynb>data table notebook</a>'\n",
              "            + ' to learn more about interactive tables.';\n",
              "          element.innerHTML = '';\n",
              "          dataTable['output_type'] = 'display_data';\n",
              "          await google.colab.output.renderOutput(dataTable, element);\n",
              "          const docLink = document.createElement('div');\n",
              "          docLink.innerHTML = docLinkHtml;\n",
              "          element.appendChild(docLink);\n",
              "        }\n",
              "      </script>\n",
              "    </div>\n",
              "  </div>\n",
              "  "
            ]
          },
          "metadata": {},
          "execution_count": 3
        }
      ]
    },
    {
      "cell_type": "code",
      "source": [
        "X = df.drop('class',axis=1)\n",
        "y=df['class']"
      ],
      "metadata": {
        "id": "kCWx588ase24"
      },
      "execution_count": 4,
      "outputs": []
    },
    {
      "cell_type": "markdown",
      "source": [
        "# Divide your data into three(3) parts: Training, Validation and Testing data."
      ],
      "metadata": {
        "id": "Gy1vfVDvuPBf"
      }
    },
    {
      "cell_type": "code",
      "source": [
        "#save 20% of your dataset for final testing\n",
        "# use 80% for training and validation process\n",
        "\n",
        "# STEPS:\n",
        "  #1. first divide our dataset into 80:20 (i.e. training(80) and testing(20))\n",
        "  #2. next divide the 80 part to training and validation (i.e. whatever ratio you prefer)\n",
        "\n",
        "\n",
        "X_train1, X_test, y_train1,y_test = train_test_split(X,y, test_size=.20,random_state=1)\n",
        "\n",
        "\n",
        "X_train2, X_val, y_train2,y_val = train_test_split(X_train1,y_train1, test_size=.25,random_state=1)"
      ],
      "metadata": {
        "id": "-12xq7m-qEJ6"
      },
      "execution_count": 5,
      "outputs": []
    },
    {
      "cell_type": "code",
      "source": [
        "print('Total dataset',len(X.values))\n",
        "print('Total test data saved for future use: ',len(X_test+y_test))\n",
        "print('Total training data: ',len(X_train2+y_train2))\n",
        "print('Total validation data: ',len(X_val+y_val))"
      ],
      "metadata": {
        "colab": {
          "base_uri": "https://localhost:8080/"
        },
        "id": "I8iNeft7ueiN",
        "outputId": "291f60ac-a34f-4d94-e25f-e5ede1038bcc"
      },
      "execution_count": 6,
      "outputs": [
        {
          "output_type": "stream",
          "name": "stdout",
          "text": [
            "Total dataset 768\n",
            "Total test data saved for future use:  154\n",
            "Total training data:  460\n",
            "Total validation data:  154\n"
          ]
        }
      ]
    },
    {
      "cell_type": "code",
      "source": [
        "154+460+154"
      ],
      "metadata": {
        "colab": {
          "base_uri": "https://localhost:8080/"
        },
        "id": "OuddWKw_Yrwd",
        "outputId": "a472e82b-dc20-43e2-b345-08852e345f37"
      },
      "execution_count": 7,
      "outputs": [
        {
          "output_type": "execute_result",
          "data": {
            "text/plain": [
              "768"
            ]
          },
          "metadata": {},
          "execution_count": 7
        }
      ]
    },
    {
      "cell_type": "code",
      "source": [
        "from sklearn.neighbors import KNeighborsClassifier\n",
        "\n",
        "knn_clf = KNeighborsClassifier()\n"
      ],
      "metadata": {
        "id": "JvbIZ6UDDHlM"
      },
      "execution_count": 8,
      "outputs": []
    },
    {
      "cell_type": "code",
      "metadata": {
        "id": "Ak0uBB1YD8hC",
        "colab": {
          "base_uri": "https://localhost:8080/"
        },
        "outputId": "3357c253-bed2-4fde-aa24-f365e84ab534"
      },
      "source": [
        "knn_clf.fit(X_train2,y_train2)"
      ],
      "execution_count": 9,
      "outputs": [
        {
          "output_type": "execute_result",
          "data": {
            "text/plain": [
              "KNeighborsClassifier()"
            ]
          },
          "metadata": {},
          "execution_count": 9
        }
      ]
    },
    {
      "cell_type": "code",
      "metadata": {
        "id": "umttCWaoD8hE",
        "colab": {
          "base_uri": "https://localhost:8080/"
        },
        "outputId": "ca664d4f-5895-47b4-b07a-84c573977f7e"
      },
      "source": [
        "KNeighborsClassifier().get_params()"
      ],
      "execution_count": 10,
      "outputs": [
        {
          "output_type": "execute_result",
          "data": {
            "text/plain": [
              "{'algorithm': 'auto',\n",
              " 'leaf_size': 30,\n",
              " 'metric': 'minkowski',\n",
              " 'metric_params': None,\n",
              " 'n_jobs': None,\n",
              " 'n_neighbors': 5,\n",
              " 'p': 2,\n",
              " 'weights': 'uniform'}"
            ]
          },
          "metadata": {},
          "execution_count": 10
        }
      ]
    },
    {
      "cell_type": "code",
      "metadata": {
        "id": "Qv2epaH3D8hH"
      },
      "source": [
        "param_grid = {'n_neighbors':list(range(1,9)),\n",
        "               'algorithm':('auto', 'ball_tree', 'kd_tree', 'brute')\n",
        "               \n",
        "                }"
      ],
      "execution_count": 11,
      "outputs": []
    },
    {
      "cell_type": "code",
      "source": [
        "from sklearn.model_selection import GridSearchCV\n",
        "\n",
        "gs=GridSearchCV(knn_clf,param_grid,cv=20)\n"
      ],
      "metadata": {
        "id": "x1ehIboiv2w7"
      },
      "execution_count": 12,
      "outputs": []
    },
    {
      "cell_type": "code",
      "metadata": {
        "id": "XT-ufg0OD8hJ",
        "colab": {
          "base_uri": "https://localhost:8080/"
        },
        "outputId": "ddd1baa6-1246-4d56-c322-2f917ff58a83"
      },
      "source": [
        "gs.fit(X_train2,y_train2)"
      ],
      "execution_count": 13,
      "outputs": [
        {
          "output_type": "execute_result",
          "data": {
            "text/plain": [
              "GridSearchCV(cv=20, estimator=KNeighborsClassifier(),\n",
              "             param_grid={'algorithm': ('auto', 'ball_tree', 'kd_tree', 'brute'),\n",
              "                         'n_neighbors': [1, 2, 3, 4, 5, 6, 7, 8]})"
            ]
          },
          "metadata": {},
          "execution_count": 13
        }
      ]
    },
    {
      "cell_type": "code",
      "metadata": {
        "id": "O0tFV4paD8hL",
        "colab": {
          "base_uri": "https://localhost:8080/"
        },
        "outputId": "0c53590f-6704-4a75-ec8f-597f6ba89215"
      },
      "source": [
        "gs.best_params_"
      ],
      "execution_count": 14,
      "outputs": [
        {
          "output_type": "execute_result",
          "data": {
            "text/plain": [
              "{'algorithm': 'auto', 'n_neighbors': 8}"
            ]
          },
          "metadata": {},
          "execution_count": 14
        }
      ]
    },
    {
      "cell_type": "code",
      "metadata": {
        "id": "8s3tZueAD8hN",
        "colab": {
          "base_uri": "https://localhost:8080/"
        },
        "outputId": "a69a0279-2506-43ef-8ae0-51bb04160ee5"
      },
      "source": [
        "gs.cv_results_['params']"
      ],
      "execution_count": 15,
      "outputs": [
        {
          "output_type": "execute_result",
          "data": {
            "text/plain": [
              "[{'algorithm': 'auto', 'n_neighbors': 1},\n",
              " {'algorithm': 'auto', 'n_neighbors': 2},\n",
              " {'algorithm': 'auto', 'n_neighbors': 3},\n",
              " {'algorithm': 'auto', 'n_neighbors': 4},\n",
              " {'algorithm': 'auto', 'n_neighbors': 5},\n",
              " {'algorithm': 'auto', 'n_neighbors': 6},\n",
              " {'algorithm': 'auto', 'n_neighbors': 7},\n",
              " {'algorithm': 'auto', 'n_neighbors': 8},\n",
              " {'algorithm': 'ball_tree', 'n_neighbors': 1},\n",
              " {'algorithm': 'ball_tree', 'n_neighbors': 2},\n",
              " {'algorithm': 'ball_tree', 'n_neighbors': 3},\n",
              " {'algorithm': 'ball_tree', 'n_neighbors': 4},\n",
              " {'algorithm': 'ball_tree', 'n_neighbors': 5},\n",
              " {'algorithm': 'ball_tree', 'n_neighbors': 6},\n",
              " {'algorithm': 'ball_tree', 'n_neighbors': 7},\n",
              " {'algorithm': 'ball_tree', 'n_neighbors': 8},\n",
              " {'algorithm': 'kd_tree', 'n_neighbors': 1},\n",
              " {'algorithm': 'kd_tree', 'n_neighbors': 2},\n",
              " {'algorithm': 'kd_tree', 'n_neighbors': 3},\n",
              " {'algorithm': 'kd_tree', 'n_neighbors': 4},\n",
              " {'algorithm': 'kd_tree', 'n_neighbors': 5},\n",
              " {'algorithm': 'kd_tree', 'n_neighbors': 6},\n",
              " {'algorithm': 'kd_tree', 'n_neighbors': 7},\n",
              " {'algorithm': 'kd_tree', 'n_neighbors': 8},\n",
              " {'algorithm': 'brute', 'n_neighbors': 1},\n",
              " {'algorithm': 'brute', 'n_neighbors': 2},\n",
              " {'algorithm': 'brute', 'n_neighbors': 3},\n",
              " {'algorithm': 'brute', 'n_neighbors': 4},\n",
              " {'algorithm': 'brute', 'n_neighbors': 5},\n",
              " {'algorithm': 'brute', 'n_neighbors': 6},\n",
              " {'algorithm': 'brute', 'n_neighbors': 7},\n",
              " {'algorithm': 'brute', 'n_neighbors': 8}]"
            ]
          },
          "metadata": {},
          "execution_count": 15
        }
      ]
    },
    {
      "cell_type": "code",
      "metadata": {
        "id": "opa0v3KsD8hP",
        "colab": {
          "base_uri": "https://localhost:8080/"
        },
        "outputId": "d0f15336-b4f4-4d6d-f81c-317a3692e349"
      },
      "source": [
        "gs.cv_results_['mean_test_score']"
      ],
      "execution_count": 16,
      "outputs": [
        {
          "output_type": "execute_result",
          "data": {
            "text/plain": [
              "array([0.67391304, 0.7       , 0.7       , 0.70652174, 0.7       ,\n",
              "       0.71086957, 0.71521739, 0.72608696, 0.67391304, 0.7       ,\n",
              "       0.7       , 0.70652174, 0.7       , 0.71086957, 0.71521739,\n",
              "       0.72608696, 0.67391304, 0.7       , 0.7       , 0.70652174,\n",
              "       0.7       , 0.71086957, 0.71521739, 0.72608696, 0.67391304,\n",
              "       0.7       , 0.7       , 0.70652174, 0.7       , 0.71086957,\n",
              "       0.71521739, 0.72608696])"
            ]
          },
          "metadata": {},
          "execution_count": 16
        }
      ]
    },
    {
      "cell_type": "code",
      "metadata": {
        "id": "f10rnJuPD8hR",
        "colab": {
          "base_uri": "https://localhost:8080/"
        },
        "outputId": "45ff4f46-204e-42db-ded5-bc3c42f19b24"
      },
      "source": [
        "from sklearn.neighbors import KNeighborsClassifier\n",
        "\n",
        "knn_clf = KNeighborsClassifier(n_neighbors=8, algorithm='auto')\n",
        "\n",
        "knn_clf.fit(X_train2,y_train2)"
      ],
      "execution_count": 17,
      "outputs": [
        {
          "output_type": "execute_result",
          "data": {
            "text/plain": [
              "KNeighborsClassifier(n_neighbors=8)"
            ]
          },
          "metadata": {},
          "execution_count": 17
        }
      ]
    },
    {
      "cell_type": "code",
      "metadata": {
        "id": "ZyREPimND8hT",
        "colab": {
          "base_uri": "https://localhost:8080/"
        },
        "outputId": "4573aabc-01fb-43ab-c906-c1bf6594f526"
      },
      "source": [
        "from sklearn import metrics\n",
        "\n",
        "y_pred = knn_clf.predict(X_test)\n",
        "\n",
        "print('Accuracy: ', metrics.accuracy_score(y_test,y_pred))"
      ],
      "execution_count": 18,
      "outputs": [
        {
          "output_type": "stream",
          "name": "stdout",
          "text": [
            "Accuracy:  0.7467532467532467\n"
          ]
        }
      ]
    },
    {
      "cell_type": "code",
      "source": [
        "\n",
        "from sklearn.metrics import confusion_matrix\n",
        "from mlxtend.plotting import plot_confusion_matrix\n",
        "import matplotlib.pyplot as plt\n",
        "\n",
        "\n",
        "conf_matrix = confusion_matrix(y_test,y_pred)\n",
        "\n",
        "plt.figure(figsize=(6, 6))\n",
        "import seaborn as sns\n",
        "sns.heatmap(conf_matrix, annot=True)\n",
        " \n",
        "# fig, ax = plot_confusion_matrix(conf_mat=conf_matrix, figsize=(6, 6))\n",
        "plt.xlabel('Predictions', fontsize=18)\n",
        "plt.ylabel('Actuals', fontsize=18)\n",
        "plt.title('Confusion Matrix', fontsize=18)\n",
        "plt.show()"
      ],
      "metadata": {
        "colab": {
          "base_uri": "https://localhost:8080/",
          "height": 416
        },
        "id": "0kmK-FBZ0Tvu",
        "outputId": "084bbcd9-f8e7-4cf5-a11d-a3efe4c9eaf2"
      },
      "execution_count": 20,
      "outputs": [
        {
          "output_type": "display_data",
          "data": {
            "text/plain": [
              "<Figure size 432x432 with 2 Axes>"
            ],
            "image/png": "[encoded data removed]"
          },
          "metadata": {
            "needs_background": "light"
          }
        }
      ]
    },
    {
      "cell_type": "code",
      "source": [
        "\n",
        "# Classification Report\n",
        "from sklearn.metrics import classification_report\n",
        "print(classification_report(y_test, y_pred))"
      ],
      "metadata": {
        "colab": {
          "base_uri": "https://localhost:8080/"
        },
        "id": "kOb1C-gX2xYR",
        "outputId": "8ad91bd9-d477-42de-b08a-ad1849272362"
      },
      "execution_count": 21,
      "outputs": [
        {
          "output_type": "stream",
          "name": "stdout",
          "text": [
            "              precision    recall  f1-score   support\n",
            "\n",
            "           0       0.76      0.89      0.82        99\n",
            "           1       0.71      0.49      0.58        55\n",
            "\n",
            "    accuracy                           0.75       154\n",
            "   macro avg       0.73      0.69      0.70       154\n",
            "weighted avg       0.74      0.75      0.73       154\n",
            "\n"
          ]
        }
      ]
    },
    {
      "cell_type": "code",
      "source": [
        "\n",
        "from sklearn.metrics import roc_curve\n",
        "from sklearn.metrics import auc\n",
        "import matplotlib.pyplot as plt\n",
        "\n",
        "y_scores = knn_clf.predict_proba(X_test)\n",
        "fpr, tpr, threshold = roc_curve(y_test, y_scores[:, 1])\n",
        "roc_auc = auc(fpr, tpr)\n",
        "\n",
        "\n",
        "plt.plot(fpr, tpr, 'b', label = 'AUC = %0.2f' % roc_auc)\n",
        "plt.legend(loc = 'lower right')\n",
        "plt.plot([0, 1], [0, 1],'r--')\n",
        "plt.xlim([0, 1])\n",
        "plt.ylim([0, 1])\n",
        "plt.ylabel('True Positive Rate')\n",
        "plt.xlabel('False Positive Rate')\n",
        "plt.title('ROC Curve of kNN')\n",
        "plt.show()"
      ],
      "metadata": {
        "colab": {
          "base_uri": "https://localhost:8080/",
          "height": 295
        },
        "id": "fFG9lskc4Pt8",
        "outputId": "43c4e135-9dd4-4b96-fbf4-60983da8f3ec"
      },
      "execution_count": 22,
      "outputs": [
        {
          "output_type": "display_data",
          "data": {
            "text/plain": [
              "<Figure size 432x288 with 1 Axes>"
            ],
            "image/png": "[encoded data removed]"
          },
          "metadata": {
            "needs_background": "light"
          }
        }
      ]
    },
    {
      "cell_type": "code",
      "source": [],
      "metadata": {
        "id": "lurhCodl46_-"
      },
      "execution_count": null,
      "outputs": []
    }
  ]
}